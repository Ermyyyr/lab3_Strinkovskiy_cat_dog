{
 "cells": [
  {
   "cell_type": "code",
   "execution_count": 1,
   "id": "3f40c505",
   "metadata": {},
   "outputs": [],
   "source": [
    "import os\n",
    "if not os.path.exists(\"logs\"):\n",
    "    os.makedirs(\"logs\")\n"
   ]
  },
  {
   "cell_type": "code",
   "execution_count": 3,
   "id": "58d2e290-60ea-4d33-b523-aa192f591836",
   "metadata": {},
   "outputs": [
    {
     "name": "stdout",
     "output_type": "stream",
     "text": [
      "3-conv-64-nodes-0-dense-1711976830\n",
      "Epoch 1/10\n",
      "524/524 [==============================] - 31s 57ms/step - loss: 0.6457 - accuracy: 0.6161 - val_loss: 0.6028 - val_accuracy: 0.6764\n",
      "Epoch 2/10\n",
      "524/524 [==============================] - 30s 57ms/step - loss: 0.5614 - accuracy: 0.7115 - val_loss: 0.5356 - val_accuracy: 0.7335\n",
      "Epoch 3/10\n",
      "524/524 [==============================] - 29s 56ms/step - loss: 0.5084 - accuracy: 0.7533 - val_loss: 0.5266 - val_accuracy: 0.7374\n",
      "Epoch 4/10\n",
      "524/524 [==============================] - 31s 59ms/step - loss: 0.4720 - accuracy: 0.7748 - val_loss: 0.5172 - val_accuracy: 0.7426\n",
      "Epoch 5/10\n",
      "524/524 [==============================] - 32s 62ms/step - loss: 0.4437 - accuracy: 0.7918 - val_loss: 0.4722 - val_accuracy: 0.7698\n",
      "Epoch 6/10\n",
      "524/524 [==============================] - 31s 58ms/step - loss: 0.4164 - accuracy: 0.8089 - val_loss: 0.4598 - val_accuracy: 0.7833\n",
      "Epoch 7/10\n",
      "524/524 [==============================] - 30s 57ms/step - loss: 0.3897 - accuracy: 0.8219 - val_loss: 0.4492 - val_accuracy: 0.7904\n",
      "Epoch 8/10\n",
      "524/524 [==============================] - 29s 55ms/step - loss: 0.3661 - accuracy: 0.8355 - val_loss: 0.4260 - val_accuracy: 0.8030\n",
      "Epoch 9/10\n",
      "524/524 [==============================] - 29s 56ms/step - loss: 0.3368 - accuracy: 0.8506 - val_loss: 0.4217 - val_accuracy: 0.8042\n",
      "Epoch 10/10\n",
      "524/524 [==============================] - 29s 55ms/step - loss: 0.3138 - accuracy: 0.8626 - val_loss: 0.4336 - val_accuracy: 0.8045\n"
     ]
    }
   ],
   "source": [
    "import tensorflow as tf\n",
    "from tensorflow.keras.models import Sequential\n",
    "from tensorflow.keras.layers import Dense, Activation, Flatten, Conv2D, MaxPooling2D\n",
    "from tensorflow.keras.callbacks import TensorBoard\n",
    "import pickle\n",
    "import time\n",
    "from sklearn.model_selection import train_test_split\n",
    "import numpy as np\n",
    "import os\n",
    "\n",
    "# Загрузка данных из pickle-файлов\n",
    "pickle_in = open(\"X.pickle\", \"rb\")\n",
    "X = pickle.load(pickle_in)\n",
    "\n",
    "pickle_in = open(\"y.pickle\", \"rb\")\n",
    "y = pickle.load(pickle_in)\n",
    "\n",
    "# Нормализация данных\n",
    "X = X / 255.0\n",
    "\n",
    "dense_layers = [0]\n",
    "layer_sizes = [64]\n",
    "conv_layers = [3]\n",
    "\n",
    "for dense_layer in dense_layers:\n",
    "    for layer_size in layer_sizes:\n",
    "        for conv_layer in conv_layers:\n",
    "            NAME = \"{}-conv-{}-nodes-{}-dense-{}\".format(conv_layer, layer_size, dense_layer, int(time.time()))\n",
    "            print(NAME)\n",
    "\n",
    "            # Создание модели\n",
    "            model = Sequential()\n",
    "\n",
    "            model.add(Conv2D(layer_size, (3, 3), input_shape=X.shape[1:]))\n",
    "            model.add(Activation('relu'))\n",
    "            model.add(MaxPooling2D(pool_size=(2, 2)))\n",
    "\n",
    "            for _ in range(conv_layer - 1):\n",
    "                model.add(Conv2D(layer_size, (3, 3)))\n",
    "                model.add(Activation('relu'))\n",
    "                model.add(MaxPooling2D(pool_size=(2, 2)))\n",
    "\n",
    "            model.add(Flatten())\n",
    "\n",
    "            for _ in range(dense_layer):\n",
    "                model.add(Dense(layer_size))\n",
    "                model.add(Activation('relu'))\n",
    "\n",
    "            model.add(Dense(1))\n",
    "            model.add(Activation('sigmoid'))\n",
    "\n",
    "            tensorboard = TensorBoard(log_dir=\"logs/{}\".format(NAME))\n",
    "\n",
    "            # Компиляция модели\n",
    "            model.compile(loss='binary_crossentropy',\n",
    "                          optimizer='adam',\n",
    "                          metrics=['accuracy'])\n",
    "\n",
    "            # Разделение данных на обучающий и валидационный наборы\n",
    "            X_train, X_val, y_train, y_val = train_test_split(np.array(X), np.array(y), test_size=0.3, random_state=42)\n",
    "\n",
    "            # Обучение модели\n",
    "            model.fit(X_train, y_train,\n",
    "                      batch_size=32,\n",
    "                      epochs=10,\n",
    "                      validation_data=(X_val, y_val))#callbacks=[tensorboard]\n",
    "\n",
    "            # Сохранение модели\n",
    "            model.save('64x3-CNN.keras')\n"
   ]
  },
  {
   "cell_type": "code",
   "execution_count": 4,
   "id": "724dc0a4-5b33-486e-b5b4-eb866acdeefa",
   "metadata": {},
   "outputs": [],
   "source": [
    "import cv2\n",
    "import tensorflow as tf\n",
    "\n",
    "CATEGORIES = [\"Dog\", \"Cat\"]  # will use this to convert prediction num to string value\n",
    "\n",
    "\n",
    "def prepare(filepath):\n",
    "    IMG_SIZE = 50  # 50 in txt-based\n",
    "    img_array = cv2.imread(filepath, cv2.IMREAD_GRAYSCALE)  # read in the image, convert to grayscale\n",
    "    new_array = cv2.resize(img_array, (IMG_SIZE, IMG_SIZE))  # resize image to match model's expected sizing\n",
    "    return new_array.reshape(-1, IMG_SIZE, IMG_SIZE, 1)  # return the image with shaping that TF wants."
   ]
  },
  {
   "cell_type": "code",
   "execution_count": 5,
   "id": "01090aa7-1fb3-4c10-a51d-1c817d4e08e4",
   "metadata": {},
   "outputs": [],
   "source": [
    "model = tf.keras.models.load_model(\"64x3-CNN.keras\")"
   ]
  },
  {
   "cell_type": "code",
   "execution_count": 7,
   "id": "6cd40fa5-3348-4fb5-8ec4-c334d9e1b95c",
   "metadata": {},
   "outputs": [
    {
     "name": "stdout",
     "output_type": "stream",
     "text": [
      "1/1 [==============================] - 0s 69ms/step\n"
     ]
    }
   ],
   "source": [
    "prediction = model.predict([prepare('9589.jpg')])  # REMEMBER YOU'RE PASSING A LIST OF THINGS YOU WISH TO PREDICT"
   ]
  },
  {
   "cell_type": "code",
   "execution_count": 8,
   "id": "28341c34-406e-4691-97ae-dee8667a2109",
   "metadata": {},
   "outputs": [
    {
     "name": "stdout",
     "output_type": "stream",
     "text": [
      "Cat\n"
     ]
    }
   ],
   "source": [
    "print(CATEGORIES[int(prediction[0][0])])"
   ]
  },
  {
   "cell_type": "code",
   "execution_count": 9,
   "id": "eb802126-773a-42a6-926a-6fc5915c78a7",
   "metadata": {},
   "outputs": [
    {
     "name": "stdout",
     "output_type": "stream",
     "text": [
      "1/1 [==============================] - 0s 20ms/step\n",
      "[[1.]]\n",
      "Cat\n"
     ]
    }
   ],
   "source": [
    "prediction = model.predict([prepare('11317.jpg')])\n",
    "print(prediction)  # will be a list in a list.\n",
    "print(CATEGORIES[int(prediction[0][0])])"
   ]
  },
  {
   "cell_type": "code",
   "execution_count": 10,
   "id": "d06263c0-dcbb-4622-8bff-9ce2c5d18a16",
   "metadata": {},
   "outputs": [
    {
     "name": "stdout",
     "output_type": "stream",
     "text": [
      "1/1 [==============================] - 0s 79ms/step\n",
      "[[1.]]\n",
      "Cat\n"
     ]
    }
   ],
   "source": [
    "import cv2\n",
    "import tensorflow as tf\n",
    "\n",
    "CATEGORIES = [\"Dog\", \"Cat\"]\n",
    "\n",
    "\n",
    "def prepare(filepath):\n",
    "    IMG_SIZE = 50  # 50 in txt-based\n",
    "    img_array = cv2.imread(filepath, cv2.IMREAD_GRAYSCALE)\n",
    "    new_array = cv2.resize(img_array, (IMG_SIZE, IMG_SIZE))\n",
    "    return new_array.reshape(-1, IMG_SIZE, IMG_SIZE, 1)\n",
    "\n",
    "\n",
    "model = tf.keras.models.load_model(\"64x3-CNN.keras\")\n",
    "\n",
    "prediction = model.predict([prepare('11317.jpg')])\n",
    "print(prediction)  # will be a list in a list.\n",
    "print(CATEGORIES[int(prediction[0][0])])"
   ]
  },
  {
   "cell_type": "code",
   "execution_count": null,
   "id": "4d53a5c0-4193-44b0-9fd1-07aff8db677d",
   "metadata": {},
   "outputs": [],
   "source": []
  },
  {
   "cell_type": "code",
   "execution_count": null,
   "id": "b01c2b49-cf55-4cbe-bf11-a9423e99ce67",
   "metadata": {},
   "outputs": [],
   "source": []
  }
 ],
 "metadata": {
  "kernelspec": {
   "display_name": "Python 3 (ipykernel)",
   "language": "python",
   "name": "python3"
  },
  "language_info": {
   "codemirror_mode": {
    "name": "ipython",
    "version": 3
   },
   "file_extension": ".py",
   "mimetype": "text/x-python",
   "name": "python",
   "nbconvert_exporter": "python",
   "pygments_lexer": "ipython3",
   "version": "3.10.9"
  }
 },
 "nbformat": 4,
 "nbformat_minor": 5
}
